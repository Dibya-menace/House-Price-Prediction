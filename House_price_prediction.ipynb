{
  "cells": [
    {
      "cell_type": "code",
      "execution_count": null,
      "id": "bbb498a7-6080-488d-9183-f538ddacabc5",
      "metadata": {
        "id": "bbb498a7-6080-488d-9183-f538ddacabc5"
      },
      "outputs": [],
      "source": [
        "import pandas as pd\n",
        "from matplotlib import pyplot as plt\n",
        "import numpy as np\n",
        "%matplotlib inline\n",
        "import matplotlib"
      ]
    },
    {
      "cell_type": "code",
      "execution_count": null,
      "id": "b6a46ca3-25c7-40c1-9f54-c45b33d95f98",
      "metadata": {
        "id": "b6a46ca3-25c7-40c1-9f54-c45b33d95f98",
        "outputId": "a7de32fb-5bd5-4947-aace-fd173be1c51e"
      },
      "outputs": [
        {
          "data": {
            "text/html": [
              "<div>\n",
              "<style scoped>\n",
              "    .dataframe tbody tr th:only-of-type {\n",
              "        vertical-align: middle;\n",
              "    }\n",
              "\n",
              "    .dataframe tbody tr th {\n",
              "        vertical-align: top;\n",
              "    }\n",
              "\n",
              "    .dataframe thead th {\n",
              "        text-align: right;\n",
              "    }\n",
              "</style>\n",
              "<table border=\"1\" class=\"dataframe\">\n",
              "  <thead>\n",
              "    <tr style=\"text-align: right;\">\n",
              "      <th></th>\n",
              "      <th>area_type</th>\n",
              "      <th>availability</th>\n",
              "      <th>location</th>\n",
              "      <th>size</th>\n",
              "      <th>society</th>\n",
              "      <th>total_sqft</th>\n",
              "      <th>bath</th>\n",
              "      <th>balcony</th>\n",
              "      <th>price</th>\n",
              "    </tr>\n",
              "  </thead>\n",
              "  <tbody>\n",
              "    <tr>\n",
              "      <th>0</th>\n",
              "      <td>Super built-up  Area</td>\n",
              "      <td>19-Dec</td>\n",
              "      <td>Electronic City Phase II</td>\n",
              "      <td>2 BHK</td>\n",
              "      <td>Coomee</td>\n",
              "      <td>1056</td>\n",
              "      <td>2.0</td>\n",
              "      <td>1.0</td>\n",
              "      <td>39.07</td>\n",
              "    </tr>\n",
              "    <tr>\n",
              "      <th>1</th>\n",
              "      <td>Plot  Area</td>\n",
              "      <td>Ready To Move</td>\n",
              "      <td>Chikka Tirupathi</td>\n",
              "      <td>4 Bedroom</td>\n",
              "      <td>Theanmp</td>\n",
              "      <td>2600</td>\n",
              "      <td>5.0</td>\n",
              "      <td>3.0</td>\n",
              "      <td>120.00</td>\n",
              "    </tr>\n",
              "    <tr>\n",
              "      <th>2</th>\n",
              "      <td>Built-up  Area</td>\n",
              "      <td>Ready To Move</td>\n",
              "      <td>Uttarahalli</td>\n",
              "      <td>3 BHK</td>\n",
              "      <td>NaN</td>\n",
              "      <td>1440</td>\n",
              "      <td>2.0</td>\n",
              "      <td>3.0</td>\n",
              "      <td>62.00</td>\n",
              "    </tr>\n",
              "    <tr>\n",
              "      <th>3</th>\n",
              "      <td>Super built-up  Area</td>\n",
              "      <td>Ready To Move</td>\n",
              "      <td>Lingadheeranahalli</td>\n",
              "      <td>3 BHK</td>\n",
              "      <td>Soiewre</td>\n",
              "      <td>1521</td>\n",
              "      <td>3.0</td>\n",
              "      <td>1.0</td>\n",
              "      <td>95.00</td>\n",
              "    </tr>\n",
              "    <tr>\n",
              "      <th>4</th>\n",
              "      <td>Super built-up  Area</td>\n",
              "      <td>Ready To Move</td>\n",
              "      <td>Kothanur</td>\n",
              "      <td>2 BHK</td>\n",
              "      <td>NaN</td>\n",
              "      <td>1200</td>\n",
              "      <td>2.0</td>\n",
              "      <td>1.0</td>\n",
              "      <td>51.00</td>\n",
              "    </tr>\n",
              "  </tbody>\n",
              "</table>\n",
              "</div>"
            ],
            "text/plain": [
              "              area_type   availability                  location       size  \\\n",
              "0  Super built-up  Area         19-Dec  Electronic City Phase II      2 BHK   \n",
              "1            Plot  Area  Ready To Move          Chikka Tirupathi  4 Bedroom   \n",
              "2        Built-up  Area  Ready To Move               Uttarahalli      3 BHK   \n",
              "3  Super built-up  Area  Ready To Move        Lingadheeranahalli      3 BHK   \n",
              "4  Super built-up  Area  Ready To Move                  Kothanur      2 BHK   \n",
              "\n",
              "   society total_sqft  bath  balcony   price  \n",
              "0  Coomee        1056   2.0      1.0   39.07  \n",
              "1  Theanmp       2600   5.0      3.0  120.00  \n",
              "2      NaN       1440   2.0      3.0   62.00  \n",
              "3  Soiewre       1521   3.0      1.0   95.00  \n",
              "4      NaN       1200   2.0      1.0   51.00  "
            ]
          },
          "execution_count": 4,
          "metadata": {},
          "output_type": "execute_result"
        }
      ],
      "source": [
        "df1=pd.read_csv('bengaluru_house_prices.csv')\n",
        "df1.head()"
      ]
    },
    {
      "cell_type": "code",
      "execution_count": null,
      "id": "8656db9d-ebcf-4908-b22c-e756f62c30e5",
      "metadata": {
        "id": "8656db9d-ebcf-4908-b22c-e756f62c30e5",
        "outputId": "50992faa-914b-4351-8618-2304ce5dd1b8"
      },
      "outputs": [
        {
          "data": {
            "text/plain": [
              "(13320, 9)"
            ]
          },
          "execution_count": 5,
          "metadata": {},
          "output_type": "execute_result"
        }
      ],
      "source": [
        "df1.shape"
      ]
    },
    {
      "cell_type": "code",
      "execution_count": null,
      "id": "c3e6c2c7-b989-44b5-8804-5c9cf7fdfdfb",
      "metadata": {
        "id": "c3e6c2c7-b989-44b5-8804-5c9cf7fdfdfb",
        "outputId": "8527cbfe-6a93-4e20-ebee-d775329eee4a"
      },
      "outputs": [
        {
          "data": {
            "text/plain": [
              "array(['Super built-up  Area', 'Plot  Area', 'Built-up  Area',\n",
              "       'Carpet  Area'], dtype=object)"
            ]
          },
          "execution_count": 7,
          "metadata": {},
          "output_type": "execute_result"
        }
      ],
      "source": [
        "df1.area_type.unique()"
      ]
    },
    {
      "cell_type": "code",
      "execution_count": null,
      "id": "596c98a1-ff1d-45a2-ae6b-6267a611d650",
      "metadata": {
        "id": "596c98a1-ff1d-45a2-ae6b-6267a611d650",
        "outputId": "0c547791-1f8f-4465-d356-f4b21e3402e9"
      },
      "outputs": [
        {
          "data": {
            "text/plain": [
              "area_type\n",
              "Super built-up  Area    8790\n",
              "Built-up  Area          2418\n",
              "Plot  Area              2025\n",
              "Carpet  Area              87\n",
              "Name: count, dtype: int64"
            ]
          },
          "execution_count": 8,
          "metadata": {},
          "output_type": "execute_result"
        }
      ],
      "source": [
        "df1.area_type.value_counts()"
      ]
    },
    {
      "cell_type": "code",
      "execution_count": null,
      "id": "267bd884-8b48-4591-a3bb-0092e140eab1",
      "metadata": {
        "id": "267bd884-8b48-4591-a3bb-0092e140eab1",
        "outputId": "d63b9aa5-cf6d-4581-f767-58b9c1a2367b"
      },
      "outputs": [
        {
          "data": {
            "text/html": [
              "<div>\n",
              "<style scoped>\n",
              "    .dataframe tbody tr th:only-of-type {\n",
              "        vertical-align: middle;\n",
              "    }\n",
              "\n",
              "    .dataframe tbody tr th {\n",
              "        vertical-align: top;\n",
              "    }\n",
              "\n",
              "    .dataframe thead th {\n",
              "        text-align: right;\n",
              "    }\n",
              "</style>\n",
              "<table border=\"1\" class=\"dataframe\">\n",
              "  <thead>\n",
              "    <tr style=\"text-align: right;\">\n",
              "      <th></th>\n",
              "      <th>location</th>\n",
              "      <th>size</th>\n",
              "      <th>total_sqft</th>\n",
              "      <th>bath</th>\n",
              "      <th>price</th>\n",
              "    </tr>\n",
              "  </thead>\n",
              "  <tbody>\n",
              "    <tr>\n",
              "      <th>0</th>\n",
              "      <td>Electronic City Phase II</td>\n",
              "      <td>2 BHK</td>\n",
              "      <td>1056</td>\n",
              "      <td>2.0</td>\n",
              "      <td>39.07</td>\n",
              "    </tr>\n",
              "    <tr>\n",
              "      <th>1</th>\n",
              "      <td>Chikka Tirupathi</td>\n",
              "      <td>4 Bedroom</td>\n",
              "      <td>2600</td>\n",
              "      <td>5.0</td>\n",
              "      <td>120.00</td>\n",
              "    </tr>\n",
              "    <tr>\n",
              "      <th>2</th>\n",
              "      <td>Uttarahalli</td>\n",
              "      <td>3 BHK</td>\n",
              "      <td>1440</td>\n",
              "      <td>2.0</td>\n",
              "      <td>62.00</td>\n",
              "    </tr>\n",
              "    <tr>\n",
              "      <th>3</th>\n",
              "      <td>Lingadheeranahalli</td>\n",
              "      <td>3 BHK</td>\n",
              "      <td>1521</td>\n",
              "      <td>3.0</td>\n",
              "      <td>95.00</td>\n",
              "    </tr>\n",
              "    <tr>\n",
              "      <th>4</th>\n",
              "      <td>Kothanur</td>\n",
              "      <td>2 BHK</td>\n",
              "      <td>1200</td>\n",
              "      <td>2.0</td>\n",
              "      <td>51.00</td>\n",
              "    </tr>\n",
              "  </tbody>\n",
              "</table>\n",
              "</div>"
            ],
            "text/plain": [
              "                   location       size total_sqft  bath   price\n",
              "0  Electronic City Phase II      2 BHK       1056   2.0   39.07\n",
              "1          Chikka Tirupathi  4 Bedroom       2600   5.0  120.00\n",
              "2               Uttarahalli      3 BHK       1440   2.0   62.00\n",
              "3        Lingadheeranahalli      3 BHK       1521   3.0   95.00\n",
              "4                  Kothanur      2 BHK       1200   2.0   51.00"
            ]
          },
          "execution_count": 9,
          "metadata": {},
          "output_type": "execute_result"
        }
      ],
      "source": [
        "df2 = df1.drop(['area_type','society','balcony','availability'],axis='columns')\n",
        "df2.head()"
      ]
    },
    {
      "cell_type": "code",
      "execution_count": null,
      "id": "1a16e9df-8378-4bc0-a50f-3407d48f0de1",
      "metadata": {
        "id": "1a16e9df-8378-4bc0-a50f-3407d48f0de1",
        "outputId": "8626c4a3-5b77-4e5f-c5e7-fa3b381d237b"
      },
      "outputs": [
        {
          "data": {
            "text/plain": [
              "location       1\n",
              "size          16\n",
              "total_sqft     0\n",
              "bath          73\n",
              "price          0\n",
              "dtype: int64"
            ]
          },
          "execution_count": 7,
          "metadata": {},
          "output_type": "execute_result"
        }
      ],
      "source": [
        "df2.isnull().sum()"
      ]
    },
    {
      "cell_type": "code",
      "execution_count": null,
      "id": "85ae8131-46d0-49fc-b063-eac868ffd1b7",
      "metadata": {
        "id": "85ae8131-46d0-49fc-b063-eac868ffd1b7",
        "outputId": "8909a68d-0d38-4369-d90e-a3719d784a6c"
      },
      "outputs": [
        {
          "data": {
            "text/plain": [
              "(13246, 5)"
            ]
          },
          "execution_count": 10,
          "metadata": {},
          "output_type": "execute_result"
        }
      ],
      "source": [
        "df3=df2.dropna()\n",
        "df3.shape"
      ]
    },
    {
      "cell_type": "code",
      "execution_count": null,
      "id": "b649aa3e-0959-47a4-a3e1-252d59de35e7",
      "metadata": {
        "id": "b649aa3e-0959-47a4-a3e1-252d59de35e7",
        "outputId": "8cc57f21-57da-4837-d986-3456cacda077"
      },
      "outputs": [
        {
          "data": {
            "text/plain": [
              "location      0\n",
              "size          0\n",
              "total_sqft    0\n",
              "bath          0\n",
              "price         0\n",
              "dtype: int64"
            ]
          },
          "execution_count": 9,
          "metadata": {},
          "output_type": "execute_result"
        }
      ],
      "source": [
        "df3.isnull().sum()"
      ]
    },
    {
      "cell_type": "code",
      "execution_count": null,
      "id": "a66bb1d2-72c2-400a-be4d-553ebbb976b3",
      "metadata": {
        "id": "a66bb1d2-72c2-400a-be4d-553ebbb976b3",
        "outputId": "f8731d85-e9e7-417d-8ab9-a8669ddbefed"
      },
      "outputs": [
        {
          "data": {
            "text/plain": [
              "array(['2 BHK', '4 Bedroom', '3 BHK', '4 BHK', '6 Bedroom', '3 Bedroom',\n",
              "       '1 BHK', '1 RK', '1 Bedroom', '8 Bedroom', '2 Bedroom',\n",
              "       '7 Bedroom', '5 BHK', '7 BHK', '6 BHK', '5 Bedroom', '11 BHK',\n",
              "       '9 BHK', '9 Bedroom', '27 BHK', '10 Bedroom', '11 Bedroom',\n",
              "       '10 BHK', '19 BHK', '16 BHK', '43 Bedroom', '14 BHK', '8 BHK',\n",
              "       '12 Bedroom', '13 BHK', '18 Bedroom'], dtype=object)"
            ]
          },
          "execution_count": 11,
          "metadata": {},
          "output_type": "execute_result"
        }
      ],
      "source": [
        "df3['size'].unique()"
      ]
    },
    {
      "cell_type": "code",
      "execution_count": null,
      "id": "8481ae3c-a805-4edf-98ea-efe172df642e",
      "metadata": {
        "id": "8481ae3c-a805-4edf-98ea-efe172df642e",
        "outputId": "5272ad93-6adf-49f0-8037-24f30557cba5"
      },
      "outputs": [
        {
          "name": "stderr",
          "output_type": "stream",
          "text": [
            "C:\\Users\\Dibyajyoti Dutta\\AppData\\Local\\Temp\\ipykernel_12712\\1261436634.py:1: SettingWithCopyWarning: \n",
            "A value is trying to be set on a copy of a slice from a DataFrame.\n",
            "Try using .loc[row_indexer,col_indexer] = value instead\n",
            "\n",
            "See the caveats in the documentation: https://pandas.pydata.org/pandas-docs/stable/user_guide/indexing.html#returning-a-view-versus-a-copy\n",
            "  df3['bhk']=df3['size'].apply(lambda x: int(x.split(' ')[0]))\n"
          ]
        },
        {
          "data": {
            "text/plain": [
              "array([ 2,  4,  3,  6,  1,  8,  7,  5, 11,  9, 27, 10, 19, 16, 43, 14, 12,\n",
              "       13, 18], dtype=int64)"
            ]
          },
          "execution_count": 12,
          "metadata": {},
          "output_type": "execute_result"
        }
      ],
      "source": [
        "df3['bhk']=df3['size'].apply(lambda x: int(x.split(' ')[0]))\n",
        "df3.bhk.unique()"
      ]
    },
    {
      "cell_type": "code",
      "execution_count": null,
      "id": "8cd71eba-6939-4dc5-9d90-2fb70080ffb3",
      "metadata": {
        "id": "8cd71eba-6939-4dc5-9d90-2fb70080ffb3",
        "outputId": "a496d6df-81ab-4a46-b0e7-010439a2193c"
      },
      "outputs": [
        {
          "data": {
            "text/html": [
              "<div>\n",
              "<style scoped>\n",
              "    .dataframe tbody tr th:only-of-type {\n",
              "        vertical-align: middle;\n",
              "    }\n",
              "\n",
              "    .dataframe tbody tr th {\n",
              "        vertical-align: top;\n",
              "    }\n",
              "\n",
              "    .dataframe thead th {\n",
              "        text-align: right;\n",
              "    }\n",
              "</style>\n",
              "<table border=\"1\" class=\"dataframe\">\n",
              "  <thead>\n",
              "    <tr style=\"text-align: right;\">\n",
              "      <th></th>\n",
              "      <th>location</th>\n",
              "      <th>size</th>\n",
              "      <th>total_sqft</th>\n",
              "      <th>bath</th>\n",
              "      <th>price</th>\n",
              "      <th>bhk</th>\n",
              "    </tr>\n",
              "  </thead>\n",
              "  <tbody>\n",
              "    <tr>\n",
              "      <th>0</th>\n",
              "      <td>Electronic City Phase II</td>\n",
              "      <td>2 BHK</td>\n",
              "      <td>1056</td>\n",
              "      <td>2.0</td>\n",
              "      <td>39.07</td>\n",
              "      <td>2</td>\n",
              "    </tr>\n",
              "    <tr>\n",
              "      <th>1</th>\n",
              "      <td>Chikka Tirupathi</td>\n",
              "      <td>4 Bedroom</td>\n",
              "      <td>2600</td>\n",
              "      <td>5.0</td>\n",
              "      <td>120.00</td>\n",
              "      <td>4</td>\n",
              "    </tr>\n",
              "    <tr>\n",
              "      <th>2</th>\n",
              "      <td>Uttarahalli</td>\n",
              "      <td>3 BHK</td>\n",
              "      <td>1440</td>\n",
              "      <td>2.0</td>\n",
              "      <td>62.00</td>\n",
              "      <td>3</td>\n",
              "    </tr>\n",
              "    <tr>\n",
              "      <th>3</th>\n",
              "      <td>Lingadheeranahalli</td>\n",
              "      <td>3 BHK</td>\n",
              "      <td>1521</td>\n",
              "      <td>3.0</td>\n",
              "      <td>95.00</td>\n",
              "      <td>3</td>\n",
              "    </tr>\n",
              "    <tr>\n",
              "      <th>4</th>\n",
              "      <td>Kothanur</td>\n",
              "      <td>2 BHK</td>\n",
              "      <td>1200</td>\n",
              "      <td>2.0</td>\n",
              "      <td>51.00</td>\n",
              "      <td>2</td>\n",
              "    </tr>\n",
              "  </tbody>\n",
              "</table>\n",
              "</div>"
            ],
            "text/plain": [
              "                   location       size total_sqft  bath   price  bhk\n",
              "0  Electronic City Phase II      2 BHK       1056   2.0   39.07    2\n",
              "1          Chikka Tirupathi  4 Bedroom       2600   5.0  120.00    4\n",
              "2               Uttarahalli      3 BHK       1440   2.0   62.00    3\n",
              "3        Lingadheeranahalli      3 BHK       1521   3.0   95.00    3\n",
              "4                  Kothanur      2 BHK       1200   2.0   51.00    2"
            ]
          },
          "execution_count": 13,
          "metadata": {},
          "output_type": "execute_result"
        }
      ],
      "source": [
        "df3.head()"
      ]
    },
    {
      "cell_type": "code",
      "execution_count": null,
      "id": "2bc767e8-3674-4ffd-977c-d18d1b847159",
      "metadata": {
        "id": "2bc767e8-3674-4ffd-977c-d18d1b847159",
        "outputId": "c5d295d2-6b28-4798-81fa-34a98bbcfabc"
      },
      "outputs": [
        {
          "data": {
            "text/html": [
              "<div>\n",
              "<style scoped>\n",
              "    .dataframe tbody tr th:only-of-type {\n",
              "        vertical-align: middle;\n",
              "    }\n",
              "\n",
              "    .dataframe tbody tr th {\n",
              "        vertical-align: top;\n",
              "    }\n",
              "\n",
              "    .dataframe thead th {\n",
              "        text-align: right;\n",
              "    }\n",
              "</style>\n",
              "<table border=\"1\" class=\"dataframe\">\n",
              "  <thead>\n",
              "    <tr style=\"text-align: right;\">\n",
              "      <th></th>\n",
              "      <th>location</th>\n",
              "      <th>size</th>\n",
              "      <th>total_sqft</th>\n",
              "      <th>bath</th>\n",
              "      <th>price</th>\n",
              "      <th>bhk</th>\n",
              "    </tr>\n",
              "  </thead>\n",
              "  <tbody>\n",
              "    <tr>\n",
              "      <th>1718</th>\n",
              "      <td>2Electronic City Phase II</td>\n",
              "      <td>27 BHK</td>\n",
              "      <td>8000</td>\n",
              "      <td>27.0</td>\n",
              "      <td>230.0</td>\n",
              "      <td>27</td>\n",
              "    </tr>\n",
              "    <tr>\n",
              "      <th>4684</th>\n",
              "      <td>Munnekollal</td>\n",
              "      <td>43 Bedroom</td>\n",
              "      <td>2400</td>\n",
              "      <td>40.0</td>\n",
              "      <td>660.0</td>\n",
              "      <td>43</td>\n",
              "    </tr>\n",
              "  </tbody>\n",
              "</table>\n",
              "</div>"
            ],
            "text/plain": [
              "                       location        size total_sqft  bath  price  bhk\n",
              "1718  2Electronic City Phase II      27 BHK       8000  27.0  230.0   27\n",
              "4684                Munnekollal  43 Bedroom       2400  40.0  660.0   43"
            ]
          },
          "execution_count": 14,
          "metadata": {},
          "output_type": "execute_result"
        }
      ],
      "source": [
        "df3[df3.bhk>20]"
      ]
    },
    {
      "cell_type": "code",
      "execution_count": null,
      "id": "9551c2c7-4e61-41ba-925e-dedf47cd0289",
      "metadata": {
        "id": "9551c2c7-4e61-41ba-925e-dedf47cd0289",
        "outputId": "8e7cc82d-d7e1-4b39-a6e1-520acbd7619b"
      },
      "outputs": [
        {
          "data": {
            "text/plain": [
              "array(['1056', '2600', '1440', ..., '1133 - 1384', '774', '4689'],\n",
              "      dtype=object)"
            ]
          },
          "execution_count": 15,
          "metadata": {},
          "output_type": "execute_result"
        }
      ],
      "source": [
        "df3.total_sqft.unique()"
      ]
    },
    {
      "cell_type": "code",
      "execution_count": null,
      "id": "cc8ca91c-c8e4-4918-b719-66493e69e1ae",
      "metadata": {
        "id": "cc8ca91c-c8e4-4918-b719-66493e69e1ae"
      },
      "outputs": [],
      "source": [
        "def is_float(x):\n",
        "    try:\n",
        "        float(x)\n",
        "    except:\n",
        "        return False\n",
        "    return True"
      ]
    },
    {
      "cell_type": "code",
      "execution_count": null,
      "id": "c66276a9-de86-466a-8126-f82eec537ff5",
      "metadata": {
        "id": "c66276a9-de86-466a-8126-f82eec537ff5",
        "outputId": "46d0bf53-5c28-42d6-ca3e-74c01eb7f9d0"
      },
      "outputs": [
        {
          "data": {
            "text/html": [
              "<div>\n",
              "<style scoped>\n",
              "    .dataframe tbody tr th:only-of-type {\n",
              "        vertical-align: middle;\n",
              "    }\n",
              "\n",
              "    .dataframe tbody tr th {\n",
              "        vertical-align: top;\n",
              "    }\n",
              "\n",
              "    .dataframe thead th {\n",
              "        text-align: right;\n",
              "    }\n",
              "</style>\n",
              "<table border=\"1\" class=\"dataframe\">\n",
              "  <thead>\n",
              "    <tr style=\"text-align: right;\">\n",
              "      <th></th>\n",
              "      <th>location</th>\n",
              "      <th>size</th>\n",
              "      <th>total_sqft</th>\n",
              "      <th>bath</th>\n",
              "      <th>price</th>\n",
              "      <th>bhk</th>\n",
              "    </tr>\n",
              "  </thead>\n",
              "  <tbody>\n",
              "    <tr>\n",
              "      <th>30</th>\n",
              "      <td>Yelahanka</td>\n",
              "      <td>4 BHK</td>\n",
              "      <td>2100 - 2850</td>\n",
              "      <td>4.0</td>\n",
              "      <td>186.000</td>\n",
              "      <td>4</td>\n",
              "    </tr>\n",
              "    <tr>\n",
              "      <th>122</th>\n",
              "      <td>Hebbal</td>\n",
              "      <td>4 BHK</td>\n",
              "      <td>3067 - 8156</td>\n",
              "      <td>4.0</td>\n",
              "      <td>477.000</td>\n",
              "      <td>4</td>\n",
              "    </tr>\n",
              "    <tr>\n",
              "      <th>137</th>\n",
              "      <td>8th Phase JP Nagar</td>\n",
              "      <td>2 BHK</td>\n",
              "      <td>1042 - 1105</td>\n",
              "      <td>2.0</td>\n",
              "      <td>54.005</td>\n",
              "      <td>2</td>\n",
              "    </tr>\n",
              "    <tr>\n",
              "      <th>165</th>\n",
              "      <td>Sarjapur</td>\n",
              "      <td>2 BHK</td>\n",
              "      <td>1145 - 1340</td>\n",
              "      <td>2.0</td>\n",
              "      <td>43.490</td>\n",
              "      <td>2</td>\n",
              "    </tr>\n",
              "    <tr>\n",
              "      <th>188</th>\n",
              "      <td>KR Puram</td>\n",
              "      <td>2 BHK</td>\n",
              "      <td>1015 - 1540</td>\n",
              "      <td>2.0</td>\n",
              "      <td>56.800</td>\n",
              "      <td>2</td>\n",
              "    </tr>\n",
              "    <tr>\n",
              "      <th>410</th>\n",
              "      <td>Kengeri</td>\n",
              "      <td>1 BHK</td>\n",
              "      <td>34.46Sq. Meter</td>\n",
              "      <td>1.0</td>\n",
              "      <td>18.500</td>\n",
              "      <td>1</td>\n",
              "    </tr>\n",
              "    <tr>\n",
              "      <th>549</th>\n",
              "      <td>Hennur Road</td>\n",
              "      <td>2 BHK</td>\n",
              "      <td>1195 - 1440</td>\n",
              "      <td>2.0</td>\n",
              "      <td>63.770</td>\n",
              "      <td>2</td>\n",
              "    </tr>\n",
              "    <tr>\n",
              "      <th>648</th>\n",
              "      <td>Arekere</td>\n",
              "      <td>9 Bedroom</td>\n",
              "      <td>4125Perch</td>\n",
              "      <td>9.0</td>\n",
              "      <td>265.000</td>\n",
              "      <td>9</td>\n",
              "    </tr>\n",
              "    <tr>\n",
              "      <th>661</th>\n",
              "      <td>Yelahanka</td>\n",
              "      <td>2 BHK</td>\n",
              "      <td>1120 - 1145</td>\n",
              "      <td>2.0</td>\n",
              "      <td>48.130</td>\n",
              "      <td>2</td>\n",
              "    </tr>\n",
              "    <tr>\n",
              "      <th>672</th>\n",
              "      <td>Bettahalsoor</td>\n",
              "      <td>4 Bedroom</td>\n",
              "      <td>3090 - 5002</td>\n",
              "      <td>4.0</td>\n",
              "      <td>445.000</td>\n",
              "      <td>4</td>\n",
              "    </tr>\n",
              "  </tbody>\n",
              "</table>\n",
              "</div>"
            ],
            "text/plain": [
              "               location       size      total_sqft  bath    price  bhk\n",
              "30            Yelahanka      4 BHK     2100 - 2850   4.0  186.000    4\n",
              "122              Hebbal      4 BHK     3067 - 8156   4.0  477.000    4\n",
              "137  8th Phase JP Nagar      2 BHK     1042 - 1105   2.0   54.005    2\n",
              "165            Sarjapur      2 BHK     1145 - 1340   2.0   43.490    2\n",
              "188            KR Puram      2 BHK     1015 - 1540   2.0   56.800    2\n",
              "410             Kengeri      1 BHK  34.46Sq. Meter   1.0   18.500    1\n",
              "549         Hennur Road      2 BHK     1195 - 1440   2.0   63.770    2\n",
              "648             Arekere  9 Bedroom       4125Perch   9.0  265.000    9\n",
              "661           Yelahanka      2 BHK     1120 - 1145   2.0   48.130    2\n",
              "672        Bettahalsoor  4 Bedroom     3090 - 5002   4.0  445.000    4"
            ]
          },
          "execution_count": 12,
          "metadata": {},
          "output_type": "execute_result"
        }
      ],
      "source": [
        "df3[~df3['total_sqft'].apply(is_float)].head(10)"
      ]
    },
    {
      "cell_type": "code",
      "execution_count": null,
      "id": "22bd9b1f-4b58-4e61-8588-d08207edcac5",
      "metadata": {
        "id": "22bd9b1f-4b58-4e61-8588-d08207edcac5"
      },
      "outputs": [],
      "source": [
        "def convert_sqft_to_num(x):\n",
        "    tokens=x.split('-')\n",
        "    if len(tokens)==2:\n",
        "        return (float(tokens[0])+float(tokens[1]))/2\n",
        "    try:\n",
        "        return float(x)\n",
        "    except:\n",
        "        return None"
      ]
    },
    {
      "cell_type": "code",
      "execution_count": null,
      "id": "d7d89cac-69af-4290-84d0-e79766d93676",
      "metadata": {
        "id": "d7d89cac-69af-4290-84d0-e79766d93676",
        "outputId": "578fbe81-bf8e-4fe7-dd67-a089a7e4368d"
      },
      "outputs": [
        {
          "data": {
            "text/html": [
              "<div>\n",
              "<style scoped>\n",
              "    .dataframe tbody tr th:only-of-type {\n",
              "        vertical-align: middle;\n",
              "    }\n",
              "\n",
              "    .dataframe tbody tr th {\n",
              "        vertical-align: top;\n",
              "    }\n",
              "\n",
              "    .dataframe thead th {\n",
              "        text-align: right;\n",
              "    }\n",
              "</style>\n",
              "<table border=\"1\" class=\"dataframe\">\n",
              "  <thead>\n",
              "    <tr style=\"text-align: right;\">\n",
              "      <th></th>\n",
              "      <th>location</th>\n",
              "      <th>size</th>\n",
              "      <th>total_sqft</th>\n",
              "      <th>bath</th>\n",
              "      <th>price</th>\n",
              "      <th>bhk</th>\n",
              "    </tr>\n",
              "  </thead>\n",
              "  <tbody>\n",
              "    <tr>\n",
              "      <th>0</th>\n",
              "      <td>Electronic City Phase II</td>\n",
              "      <td>2 BHK</td>\n",
              "      <td>1056.0</td>\n",
              "      <td>2.0</td>\n",
              "      <td>39.07</td>\n",
              "      <td>2</td>\n",
              "    </tr>\n",
              "    <tr>\n",
              "      <th>1</th>\n",
              "      <td>Chikka Tirupathi</td>\n",
              "      <td>4 Bedroom</td>\n",
              "      <td>2600.0</td>\n",
              "      <td>5.0</td>\n",
              "      <td>120.00</td>\n",
              "      <td>4</td>\n",
              "    </tr>\n",
              "    <tr>\n",
              "      <th>2</th>\n",
              "      <td>Uttarahalli</td>\n",
              "      <td>3 BHK</td>\n",
              "      <td>1440.0</td>\n",
              "      <td>2.0</td>\n",
              "      <td>62.00</td>\n",
              "      <td>3</td>\n",
              "    </tr>\n",
              "    <tr>\n",
              "      <th>3</th>\n",
              "      <td>Lingadheeranahalli</td>\n",
              "      <td>3 BHK</td>\n",
              "      <td>1521.0</td>\n",
              "      <td>3.0</td>\n",
              "      <td>95.00</td>\n",
              "      <td>3</td>\n",
              "    </tr>\n",
              "    <tr>\n",
              "      <th>4</th>\n",
              "      <td>Kothanur</td>\n",
              "      <td>2 BHK</td>\n",
              "      <td>1200.0</td>\n",
              "      <td>2.0</td>\n",
              "      <td>51.00</td>\n",
              "      <td>2</td>\n",
              "    </tr>\n",
              "  </tbody>\n",
              "</table>\n",
              "</div>"
            ],
            "text/plain": [
              "                   location       size  total_sqft  bath   price  bhk\n",
              "0  Electronic City Phase II      2 BHK      1056.0   2.0   39.07    2\n",
              "1          Chikka Tirupathi  4 Bedroom      2600.0   5.0  120.00    4\n",
              "2               Uttarahalli      3 BHK      1440.0   2.0   62.00    3\n",
              "3        Lingadheeranahalli      3 BHK      1521.0   3.0   95.00    3\n",
              "4                  Kothanur      2 BHK      1200.0   2.0   51.00    2"
            ]
          },
          "execution_count": 18,
          "metadata": {},
          "output_type": "execute_result"
        }
      ],
      "source": [
        "df4 = df3.copy()\n",
        "df4.total_sqft = df4.total_sqft.apply(convert_sqft_to_num)\n",
        "df4 = df4[df4.total_sqft.notnull()]\n",
        "df4.head()"
      ]
    },
    {
      "cell_type": "code",
      "execution_count": null,
      "id": "ab7560ed-38a9-40c6-880a-5568b6f64b6e",
      "metadata": {
        "id": "ab7560ed-38a9-40c6-880a-5568b6f64b6e",
        "outputId": "743c4a9e-b61d-4eee-d7ba-edce80f70d36"
      },
      "outputs": [
        {
          "data": {
            "text/plain": [
              "(13200, 6)"
            ]
          },
          "execution_count": 19,
          "metadata": {},
          "output_type": "execute_result"
        }
      ],
      "source": [
        "df4.shape"
      ]
    },
    {
      "cell_type": "code",
      "execution_count": null,
      "id": "85918975-7bc3-4971-a642-ff96df04fab6",
      "metadata": {
        "id": "85918975-7bc3-4971-a642-ff96df04fab6",
        "outputId": "c64c4d09-3fa1-4e0a-e342-35af1073b0cd"
      },
      "outputs": [
        {
          "data": {
            "text/html": [
              "<div>\n",
              "<style scoped>\n",
              "    .dataframe tbody tr th:only-of-type {\n",
              "        vertical-align: middle;\n",
              "    }\n",
              "\n",
              "    .dataframe tbody tr th {\n",
              "        vertical-align: top;\n",
              "    }\n",
              "\n",
              "    .dataframe thead th {\n",
              "        text-align: right;\n",
              "    }\n",
              "</style>\n",
              "<table border=\"1\" class=\"dataframe\">\n",
              "  <thead>\n",
              "    <tr style=\"text-align: right;\">\n",
              "      <th></th>\n",
              "      <th>location</th>\n",
              "      <th>size</th>\n",
              "      <th>total_sqft</th>\n",
              "      <th>bath</th>\n",
              "      <th>price</th>\n",
              "      <th>bhk</th>\n",
              "      <th>price_per_sqft</th>\n",
              "    </tr>\n",
              "  </thead>\n",
              "  <tbody>\n",
              "    <tr>\n",
              "      <th>0</th>\n",
              "      <td>Electronic City Phase II</td>\n",
              "      <td>2 BHK</td>\n",
              "      <td>1056.0</td>\n",
              "      <td>2.0</td>\n",
              "      <td>39.07</td>\n",
              "      <td>2</td>\n",
              "      <td>3699.810606</td>\n",
              "    </tr>\n",
              "    <tr>\n",
              "      <th>1</th>\n",
              "      <td>Chikka Tirupathi</td>\n",
              "      <td>4 Bedroom</td>\n",
              "      <td>2600.0</td>\n",
              "      <td>5.0</td>\n",
              "      <td>120.00</td>\n",
              "      <td>4</td>\n",
              "      <td>4615.384615</td>\n",
              "    </tr>\n",
              "    <tr>\n",
              "      <th>2</th>\n",
              "      <td>Uttarahalli</td>\n",
              "      <td>3 BHK</td>\n",
              "      <td>1440.0</td>\n",
              "      <td>2.0</td>\n",
              "      <td>62.00</td>\n",
              "      <td>3</td>\n",
              "      <td>4305.555556</td>\n",
              "    </tr>\n",
              "    <tr>\n",
              "      <th>3</th>\n",
              "      <td>Lingadheeranahalli</td>\n",
              "      <td>3 BHK</td>\n",
              "      <td>1521.0</td>\n",
              "      <td>3.0</td>\n",
              "      <td>95.00</td>\n",
              "      <td>3</td>\n",
              "      <td>6245.890861</td>\n",
              "    </tr>\n",
              "    <tr>\n",
              "      <th>4</th>\n",
              "      <td>Kothanur</td>\n",
              "      <td>2 BHK</td>\n",
              "      <td>1200.0</td>\n",
              "      <td>2.0</td>\n",
              "      <td>51.00</td>\n",
              "      <td>2</td>\n",
              "      <td>4250.000000</td>\n",
              "    </tr>\n",
              "  </tbody>\n",
              "</table>\n",
              "</div>"
            ],
            "text/plain": [
              "                   location       size  total_sqft  bath   price  bhk  \\\n",
              "0  Electronic City Phase II      2 BHK      1056.0   2.0   39.07    2   \n",
              "1          Chikka Tirupathi  4 Bedroom      2600.0   5.0  120.00    4   \n",
              "2               Uttarahalli      3 BHK      1440.0   2.0   62.00    3   \n",
              "3        Lingadheeranahalli      3 BHK      1521.0   3.0   95.00    3   \n",
              "4                  Kothanur      2 BHK      1200.0   2.0   51.00    2   \n",
              "\n",
              "   price_per_sqft  \n",
              "0     3699.810606  \n",
              "1     4615.384615  \n",
              "2     4305.555556  \n",
              "3     6245.890861  \n",
              "4     4250.000000  "
            ]
          },
          "execution_count": 20,
          "metadata": {},
          "output_type": "execute_result"
        }
      ],
      "source": [
        "df5=df4.copy()\n",
        "df5['price_per_sqft']=df5['price']*100000/ df5['total_sqft']\n",
        "df5.head()"
      ]
    },
    {
      "cell_type": "code",
      "execution_count": null,
      "id": "5c5f0a82-5f32-482a-abf7-634426fb584e",
      "metadata": {
        "id": "5c5f0a82-5f32-482a-abf7-634426fb584e",
        "outputId": "bc753e5a-044c-41d4-e7bc-6495b7811c1d"
      },
      "outputs": [
        {
          "data": {
            "text/plain": [
              "1298"
            ]
          },
          "execution_count": 21,
          "metadata": {},
          "output_type": "execute_result"
        }
      ],
      "source": [
        "len(df5['location'].unique())"
      ]
    },
    {
      "cell_type": "code",
      "execution_count": null,
      "id": "e8474bc7-35b4-4562-a64b-e7ed19fa0de4",
      "metadata": {
        "id": "e8474bc7-35b4-4562-a64b-e7ed19fa0de4",
        "outputId": "a11eb9e4-7fe8-4b28-b0c1-39761dd30430"
      },
      "outputs": [
        {
          "data": {
            "text/plain": [
              "location\n",
              "Whitefield                   533\n",
              "Sarjapur  Road               392\n",
              "Electronic City              304\n",
              "Kanakpura Road               264\n",
              "Thanisandra                  235\n",
              "                            ... \n",
              "Rajanna Layout                 1\n",
              "Subramanyanagar                1\n",
              "Lakshmipura Vidyaanyapura      1\n",
              "Malur Hosur Road               1\n",
              "Abshot Layout                  1\n",
              "Name: count, Length: 1287, dtype: int64"
            ]
          },
          "execution_count": 22,
          "metadata": {},
          "output_type": "execute_result"
        }
      ],
      "source": [
        "df5.location = df5.location.apply(lambda x: x.strip())\n",
        "## we can also ignore this strip function it will give the same result we use it to remove the extra space\n",
        "location_stats = df5['location'].value_counts(ascending=False)\n",
        "location_stats"
      ]
    },
    {
      "cell_type": "code",
      "execution_count": null,
      "id": "6dddc8e1-64a8-4fad-80c2-d054c620a455",
      "metadata": {
        "id": "6dddc8e1-64a8-4fad-80c2-d054c620a455",
        "outputId": "67f33ad9-7565-4474-97a2-7430f46dabc4"
      },
      "outputs": [
        {
          "data": {
            "text/plain": [
              "13200"
            ]
          },
          "execution_count": 23,
          "metadata": {},
          "output_type": "execute_result"
        }
      ],
      "source": [
        "location_stats.values.sum()"
      ]
    },
    {
      "cell_type": "code",
      "execution_count": null,
      "id": "5ad0646d-d3bb-4642-a1e9-9115b18b37a3",
      "metadata": {
        "id": "5ad0646d-d3bb-4642-a1e9-9115b18b37a3",
        "outputId": "00ec0c46-258a-4c4c-9e13-cb25c0831b40"
      },
      "outputs": [
        {
          "data": {
            "text/plain": [
              "240"
            ]
          },
          "execution_count": 30,
          "metadata": {},
          "output_type": "execute_result"
        }
      ],
      "source": [
        "len(location_stats[location_stats>10])"
      ]
    },
    {
      "cell_type": "code",
      "execution_count": null,
      "id": "d6daa762-f517-4fbd-bb86-6ae0c88f7c14",
      "metadata": {
        "id": "d6daa762-f517-4fbd-bb86-6ae0c88f7c14",
        "outputId": "0bfe8c58-5693-4089-fabf-cbbcbd5994e3"
      },
      "outputs": [
        {
          "data": {
            "text/plain": [
              "1287"
            ]
          },
          "execution_count": 25,
          "metadata": {},
          "output_type": "execute_result"
        }
      ],
      "source": [
        "len(location_stats)"
      ]
    },
    {
      "cell_type": "code",
      "execution_count": null,
      "id": "57a7b239-b0f8-4ef3-8006-b2895612bc71",
      "metadata": {
        "id": "57a7b239-b0f8-4ef3-8006-b2895612bc71",
        "outputId": "0a26ca0a-27b6-4d89-dfe1-b588c591278b"
      },
      "outputs": [
        {
          "data": {
            "text/plain": [
              "1033"
            ]
          },
          "execution_count": 26,
          "metadata": {},
          "output_type": "execute_result"
        }
      ],
      "source": [
        "len(location_stats[location_stats<10])"
      ]
    },
    {
      "cell_type": "code",
      "execution_count": null,
      "id": "9913604f-bd57-4e66-8130-b9c4f130c1b0",
      "metadata": {
        "id": "9913604f-bd57-4e66-8130-b9c4f130c1b0",
        "outputId": "d7703afb-73e0-44c1-a9dd-9ac35fe0e6ff"
      },
      "outputs": [
        {
          "data": {
            "text/plain": [
              "location\n",
              "BTM 1st Stage                10\n",
              "Gunjur Palya                 10\n",
              "Nagappa Reddy Layout         10\n",
              "Sector 1 HSR Layout          10\n",
              "Thyagaraja Nagar             10\n",
              "                             ..\n",
              "Rajanna Layout                1\n",
              "Subramanyanagar               1\n",
              "Lakshmipura Vidyaanyapura     1\n",
              "Malur Hosur Road              1\n",
              "Abshot Layout                 1\n",
              "Name: count, Length: 1047, dtype: int64"
            ]
          },
          "execution_count": 23,
          "metadata": {},
          "output_type": "execute_result"
        }
      ],
      "source": [
        "location_stats_less_than_10 = location_stats[location_stats<=10]\n",
        "location_stats_less_than_10"
      ]
    },
    {
      "cell_type": "code",
      "execution_count": null,
      "id": "78fba083-2956-49d4-8d62-2da541109ea1",
      "metadata": {
        "id": "78fba083-2956-49d4-8d62-2da541109ea1",
        "outputId": "c5b656ab-c7e0-4ae0-c829-b5d6f2a9f083"
      },
      "outputs": [
        {
          "data": {
            "text/plain": [
              "1287"
            ]
          },
          "execution_count": 24,
          "metadata": {},
          "output_type": "execute_result"
        }
      ],
      "source": [
        "len(df5.location.unique())"
      ]
    },
    {
      "cell_type": "code",
      "execution_count": null,
      "id": "0b4a8bd4-c0fc-4e04-ae90-ce4721c915eb",
      "metadata": {
        "id": "0b4a8bd4-c0fc-4e04-ae90-ce4721c915eb",
        "outputId": "27440d9f-b936-482b-c521-bcb083a2960e"
      },
      "outputs": [
        {
          "data": {
            "text/plain": [
              "241"
            ]
          },
          "execution_count": 25,
          "metadata": {},
          "output_type": "execute_result"
        }
      ],
      "source": [
        "df5.location = df5.location.apply(lambda x: 'other' if x in location_stats_less_than_10 else x)\n",
        "len(df5.location.unique())"
      ]
    },
    {
      "cell_type": "code",
      "execution_count": null,
      "id": "beac660e-f7b7-44ac-ae45-486977e4d578",
      "metadata": {
        "id": "beac660e-f7b7-44ac-ae45-486977e4d578",
        "outputId": "0e831bf7-7642-453d-9adf-cc0f9b3eb2a2"
      },
      "outputs": [
        {
          "data": {
            "text/html": [
              "<div>\n",
              "<style scoped>\n",
              "    .dataframe tbody tr th:only-of-type {\n",
              "        vertical-align: middle;\n",
              "    }\n",
              "\n",
              "    .dataframe tbody tr th {\n",
              "        vertical-align: top;\n",
              "    }\n",
              "\n",
              "    .dataframe thead th {\n",
              "        text-align: right;\n",
              "    }\n",
              "</style>\n",
              "<table border=\"1\" class=\"dataframe\">\n",
              "  <thead>\n",
              "    <tr style=\"text-align: right;\">\n",
              "      <th></th>\n",
              "      <th>location</th>\n",
              "      <th>size</th>\n",
              "      <th>total_sqft</th>\n",
              "      <th>bath</th>\n",
              "      <th>price</th>\n",
              "      <th>bhk</th>\n",
              "      <th>price_per_sqft</th>\n",
              "    </tr>\n",
              "  </thead>\n",
              "  <tbody>\n",
              "    <tr>\n",
              "      <th>0</th>\n",
              "      <td>Electronic City Phase II</td>\n",
              "      <td>2 BHK</td>\n",
              "      <td>1056.0</td>\n",
              "      <td>2.0</td>\n",
              "      <td>39.07</td>\n",
              "      <td>2</td>\n",
              "      <td>3699.810606</td>\n",
              "    </tr>\n",
              "    <tr>\n",
              "      <th>1</th>\n",
              "      <td>Chikka Tirupathi</td>\n",
              "      <td>4 Bedroom</td>\n",
              "      <td>2600.0</td>\n",
              "      <td>5.0</td>\n",
              "      <td>120.00</td>\n",
              "      <td>4</td>\n",
              "      <td>4615.384615</td>\n",
              "    </tr>\n",
              "    <tr>\n",
              "      <th>2</th>\n",
              "      <td>Uttarahalli</td>\n",
              "      <td>3 BHK</td>\n",
              "      <td>1440.0</td>\n",
              "      <td>2.0</td>\n",
              "      <td>62.00</td>\n",
              "      <td>3</td>\n",
              "      <td>4305.555556</td>\n",
              "    </tr>\n",
              "    <tr>\n",
              "      <th>3</th>\n",
              "      <td>Lingadheeranahalli</td>\n",
              "      <td>3 BHK</td>\n",
              "      <td>1521.0</td>\n",
              "      <td>3.0</td>\n",
              "      <td>95.00</td>\n",
              "      <td>3</td>\n",
              "      <td>6245.890861</td>\n",
              "    </tr>\n",
              "    <tr>\n",
              "      <th>4</th>\n",
              "      <td>Kothanur</td>\n",
              "      <td>2 BHK</td>\n",
              "      <td>1200.0</td>\n",
              "      <td>2.0</td>\n",
              "      <td>51.00</td>\n",
              "      <td>2</td>\n",
              "      <td>4250.000000</td>\n",
              "    </tr>\n",
              "    <tr>\n",
              "      <th>5</th>\n",
              "      <td>Whitefield</td>\n",
              "      <td>2 BHK</td>\n",
              "      <td>1170.0</td>\n",
              "      <td>2.0</td>\n",
              "      <td>38.00</td>\n",
              "      <td>2</td>\n",
              "      <td>3247.863248</td>\n",
              "    </tr>\n",
              "    <tr>\n",
              "      <th>6</th>\n",
              "      <td>Old Airport Road</td>\n",
              "      <td>4 BHK</td>\n",
              "      <td>2732.0</td>\n",
              "      <td>4.0</td>\n",
              "      <td>204.00</td>\n",
              "      <td>4</td>\n",
              "      <td>7467.057101</td>\n",
              "    </tr>\n",
              "    <tr>\n",
              "      <th>7</th>\n",
              "      <td>Rajaji Nagar</td>\n",
              "      <td>4 BHK</td>\n",
              "      <td>3300.0</td>\n",
              "      <td>4.0</td>\n",
              "      <td>600.00</td>\n",
              "      <td>4</td>\n",
              "      <td>18181.818182</td>\n",
              "    </tr>\n",
              "    <tr>\n",
              "      <th>8</th>\n",
              "      <td>Marathahalli</td>\n",
              "      <td>3 BHK</td>\n",
              "      <td>1310.0</td>\n",
              "      <td>3.0</td>\n",
              "      <td>63.25</td>\n",
              "      <td>3</td>\n",
              "      <td>4828.244275</td>\n",
              "    </tr>\n",
              "    <tr>\n",
              "      <th>9</th>\n",
              "      <td>other</td>\n",
              "      <td>6 Bedroom</td>\n",
              "      <td>1020.0</td>\n",
              "      <td>6.0</td>\n",
              "      <td>370.00</td>\n",
              "      <td>6</td>\n",
              "      <td>36274.509804</td>\n",
              "    </tr>\n",
              "  </tbody>\n",
              "</table>\n",
              "</div>"
            ],
            "text/plain": [
              "                   location       size  total_sqft  bath   price  bhk  \\\n",
              "0  Electronic City Phase II      2 BHK      1056.0   2.0   39.07    2   \n",
              "1          Chikka Tirupathi  4 Bedroom      2600.0   5.0  120.00    4   \n",
              "2               Uttarahalli      3 BHK      1440.0   2.0   62.00    3   \n",
              "3        Lingadheeranahalli      3 BHK      1521.0   3.0   95.00    3   \n",
              "4                  Kothanur      2 BHK      1200.0   2.0   51.00    2   \n",
              "5                Whitefield      2 BHK      1170.0   2.0   38.00    2   \n",
              "6          Old Airport Road      4 BHK      2732.0   4.0  204.00    4   \n",
              "7              Rajaji Nagar      4 BHK      3300.0   4.0  600.00    4   \n",
              "8              Marathahalli      3 BHK      1310.0   3.0   63.25    3   \n",
              "9                     other  6 Bedroom      1020.0   6.0  370.00    6   \n",
              "\n",
              "   price_per_sqft  \n",
              "0     3699.810606  \n",
              "1     4615.384615  \n",
              "2     4305.555556  \n",
              "3     6245.890861  \n",
              "4     4250.000000  \n",
              "5     3247.863248  \n",
              "6     7467.057101  \n",
              "7    18181.818182  \n",
              "8     4828.244275  \n",
              "9    36274.509804  "
            ]
          },
          "execution_count": 26,
          "metadata": {},
          "output_type": "execute_result"
        }
      ],
      "source": [
        "df5.head(10)"
      ]
    },
    {
      "cell_type": "markdown",
      "id": "ac28bb4f-6634-4e0b-aab7-d262649c5081",
      "metadata": {
        "id": "ac28bb4f-6634-4e0b-aab7-d262649c5081"
      },
      "source": [
        "# Outlier Removal Using Business Logic"
      ]
    },
    {
      "cell_type": "code",
      "execution_count": null,
      "id": "4b9de416-7d96-4293-951f-9f7a41170090",
      "metadata": {
        "id": "4b9de416-7d96-4293-951f-9f7a41170090",
        "outputId": "c42ae6ca-3b3b-476b-f052-b90e83790275"
      },
      "outputs": [
        {
          "data": {
            "text/html": [
              "<div>\n",
              "<style scoped>\n",
              "    .dataframe tbody tr th:only-of-type {\n",
              "        vertical-align: middle;\n",
              "    }\n",
              "\n",
              "    .dataframe tbody tr th {\n",
              "        vertical-align: top;\n",
              "    }\n",
              "\n",
              "    .dataframe thead th {\n",
              "        text-align: right;\n",
              "    }\n",
              "</style>\n",
              "<table border=\"1\" class=\"dataframe\">\n",
              "  <thead>\n",
              "    <tr style=\"text-align: right;\">\n",
              "      <th></th>\n",
              "      <th>location</th>\n",
              "      <th>size</th>\n",
              "      <th>total_sqft</th>\n",
              "      <th>bath</th>\n",
              "      <th>price</th>\n",
              "      <th>bhk</th>\n",
              "      <th>price_per_sqft</th>\n",
              "    </tr>\n",
              "  </thead>\n",
              "  <tbody>\n",
              "    <tr>\n",
              "      <th>9</th>\n",
              "      <td>other</td>\n",
              "      <td>6 Bedroom</td>\n",
              "      <td>1020.0</td>\n",
              "      <td>6.0</td>\n",
              "      <td>370.0</td>\n",
              "      <td>6</td>\n",
              "      <td>36274.509804</td>\n",
              "    </tr>\n",
              "    <tr>\n",
              "      <th>45</th>\n",
              "      <td>HSR Layout</td>\n",
              "      <td>8 Bedroom</td>\n",
              "      <td>600.0</td>\n",
              "      <td>9.0</td>\n",
              "      <td>200.0</td>\n",
              "      <td>8</td>\n",
              "      <td>33333.333333</td>\n",
              "    </tr>\n",
              "    <tr>\n",
              "      <th>58</th>\n",
              "      <td>Murugeshpalya</td>\n",
              "      <td>6 Bedroom</td>\n",
              "      <td>1407.0</td>\n",
              "      <td>4.0</td>\n",
              "      <td>150.0</td>\n",
              "      <td>6</td>\n",
              "      <td>10660.980810</td>\n",
              "    </tr>\n",
              "    <tr>\n",
              "      <th>68</th>\n",
              "      <td>Devarachikkanahalli</td>\n",
              "      <td>8 Bedroom</td>\n",
              "      <td>1350.0</td>\n",
              "      <td>7.0</td>\n",
              "      <td>85.0</td>\n",
              "      <td>8</td>\n",
              "      <td>6296.296296</td>\n",
              "    </tr>\n",
              "    <tr>\n",
              "      <th>70</th>\n",
              "      <td>other</td>\n",
              "      <td>3 Bedroom</td>\n",
              "      <td>500.0</td>\n",
              "      <td>3.0</td>\n",
              "      <td>100.0</td>\n",
              "      <td>3</td>\n",
              "      <td>20000.000000</td>\n",
              "    </tr>\n",
              "  </tbody>\n",
              "</table>\n",
              "</div>"
            ],
            "text/plain": [
              "               location       size  total_sqft  bath  price  bhk  \\\n",
              "9                 other  6 Bedroom      1020.0   6.0  370.0    6   \n",
              "45           HSR Layout  8 Bedroom       600.0   9.0  200.0    8   \n",
              "58        Murugeshpalya  6 Bedroom      1407.0   4.0  150.0    6   \n",
              "68  Devarachikkanahalli  8 Bedroom      1350.0   7.0   85.0    8   \n",
              "70                other  3 Bedroom       500.0   3.0  100.0    3   \n",
              "\n",
              "    price_per_sqft  \n",
              "9     36274.509804  \n",
              "45    33333.333333  \n",
              "58    10660.980810  \n",
              "68     6296.296296  \n",
              "70    20000.000000  "
            ]
          },
          "execution_count": 27,
          "metadata": {},
          "output_type": "execute_result"
        }
      ],
      "source": [
        "df5[df5.total_sqft/df5.bhk<300].head()"
      ]
    },
    {
      "cell_type": "code",
      "execution_count": null,
      "id": "998a47ec-638c-4e90-a39a-e88e00d02efb",
      "metadata": {
        "id": "998a47ec-638c-4e90-a39a-e88e00d02efb",
        "outputId": "e479b550-b783-4c7d-80a0-0dfe45c40498"
      },
      "outputs": [
        {
          "data": {
            "text/plain": [
              "(13200, 7)"
            ]
          },
          "execution_count": 28,
          "metadata": {},
          "output_type": "execute_result"
        }
      ],
      "source": [
        "df5.shape"
      ]
    },
    {
      "cell_type": "code",
      "execution_count": null,
      "id": "445f22c8-058f-47be-9524-4326ce8f76a4",
      "metadata": {
        "id": "445f22c8-058f-47be-9524-4326ce8f76a4",
        "outputId": "8217038a-1b8b-41f4-e972-90b190dd1be7"
      },
      "outputs": [
        {
          "data": {
            "text/plain": [
              "(12456, 7)"
            ]
          },
          "execution_count": 29,
          "metadata": {},
          "output_type": "execute_result"
        }
      ],
      "source": [
        "df6=df5[~(df5.total_sqft/df5.bhk<300)]\n",
        "df6.shape"
      ]
    },
    {
      "cell_type": "code",
      "execution_count": null,
      "id": "23a82587-c85a-498d-9dab-d390a4893208",
      "metadata": {
        "id": "23a82587-c85a-498d-9dab-d390a4893208",
        "outputId": "c2d30ee7-3f83-49fe-e8c4-328d03ba5620"
      },
      "outputs": [
        {
          "data": {
            "text/plain": [
              "count     12456.000000\n",
              "mean       6308.502826\n",
              "std        4168.127339\n",
              "min         267.829813\n",
              "25%        4210.526316\n",
              "50%        5294.117647\n",
              "75%        6916.666667\n",
              "max      176470.588235\n",
              "Name: price_per_sqft, dtype: float64"
            ]
          },
          "execution_count": 30,
          "metadata": {},
          "output_type": "execute_result"
        }
      ],
      "source": [
        "df6.price_per_sqft.describe()"
      ]
    },
    {
      "cell_type": "code",
      "execution_count": null,
      "id": "a95d5adb-c0b2-49c3-8339-4773a61974a5",
      "metadata": {
        "id": "a95d5adb-c0b2-49c3-8339-4773a61974a5",
        "outputId": "6ef6a9e2-eba2-41d1-d4ee-ee0eac708ba6"
      },
      "outputs": [
        {
          "data": {
            "text/plain": [
              "(10242, 7)"
            ]
          },
          "execution_count": 31,
          "metadata": {},
          "output_type": "execute_result"
        }
      ],
      "source": [
        "def remove_pps_outliers(df):\n",
        "    df_out = pd.DataFrame()\n",
        "    for key, subdf in df.groupby('location'):\n",
        "        m = np.mean(subdf.price_per_sqft)\n",
        "        st = np.std(subdf.price_per_sqft)\n",
        "        reduced_df = subdf[(subdf.price_per_sqft>(m-st)) & (subdf.price_per_sqft<=(m+st))]\n",
        "        df_out = pd.concat([df_out,reduced_df],ignore_index=True)\n",
        "    return df_out\n",
        "df7 = remove_pps_outliers(df6)\n",
        "df7.shape"
      ]
    },
    {
      "cell_type": "code",
      "execution_count": null,
      "id": "6fa131a6-bb4a-4c35-9414-509f0cb0b57a",
      "metadata": {
        "id": "6fa131a6-bb4a-4c35-9414-509f0cb0b57a",
        "outputId": "70ab4adb-a107-4817-fda9-b0939cb10a09"
      },
      "outputs": [
        {
          "data": {
            "text/plain": [
              "(7317, 7)"
            ]
          },
          "execution_count": 32,
          "metadata": {},
          "output_type": "execute_result"
        }
      ],
      "source": [
        "def remove_bhk_outliers(df):\n",
        "    exclude_indices = np.array([])\n",
        "    for location, location_df in df.groupby('location'):\n",
        "        bhk_stats = {}\n",
        "        for bhk, bhk_df in location_df.groupby('bhk'):\n",
        "            bhk_stats[bhk] = {\n",
        "                'mean': np.mean(bhk_df.price_per_sqft),\n",
        "                'std': np.std(bhk_df.price_per_sqft),\n",
        "                'count': bhk_df.shape[0]\n",
        "            }\n",
        "        for bhk, bhk_df in location_df.groupby('bhk'):\n",
        "            stats = bhk_stats.get(bhk-1)\n",
        "            if stats and stats['count']>5:\n",
        "                exclude_indices = np.append(exclude_indices, bhk_df[bhk_df.price_per_sqft<(stats['mean'])].index.values)\n",
        "    return df.drop(exclude_indices,axis='index')\n",
        "df8 = remove_bhk_outliers(df7)\n",
        "# df8 = df7.copy()\n",
        "df8.shape"
      ]
    },
    {
      "cell_type": "code",
      "execution_count": null,
      "id": "eb08c468-1666-48a3-a5a7-fce20b4e1bc1",
      "metadata": {
        "id": "eb08c468-1666-48a3-a5a7-fce20b4e1bc1",
        "outputId": "8dc0d2a3-046c-4ab5-9280-76e4a202fdcd"
      },
      "outputs": [
        {
          "data": {
            "text/plain": [
              "array([ 4.,  3.,  2.,  5.,  8.,  1.,  6.,  7.,  9., 12., 16., 13.])"
            ]
          },
          "execution_count": 33,
          "metadata": {},
          "output_type": "execute_result"
        }
      ],
      "source": [
        "df8.bath.unique()"
      ]
    },
    {
      "cell_type": "code",
      "execution_count": null,
      "id": "916868af-020b-42bb-b8bc-2eab1f3f345c",
      "metadata": {
        "id": "916868af-020b-42bb-b8bc-2eab1f3f345c",
        "outputId": "bb9f6749-f78f-4901-e672-75de34be8e84"
      },
      "outputs": [
        {
          "data": {
            "image/png": "[encoded data removed]",
            "text/plain": [
              "<Figure size 2000x1000 with 1 Axes>"
            ]
          },
          "metadata": {},
          "output_type": "display_data"
        }
      ],
      "source": [
        "plt.hist(df8.bath)\n",
        "plt.show()"
      ]
    },
    {
      "cell_type": "code",
      "execution_count": null,
      "id": "2d77b426-95f3-4805-8d7d-8bb89457271d",
      "metadata": {
        "id": "2d77b426-95f3-4805-8d7d-8bb89457271d",
        "outputId": "56e68d07-5b15-4122-d78a-4c52aa476556"
      },
      "outputs": [
        {
          "data": {
            "text/html": [
              "<div>\n",
              "<style scoped>\n",
              "    .dataframe tbody tr th:only-of-type {\n",
              "        vertical-align: middle;\n",
              "    }\n",
              "\n",
              "    .dataframe tbody tr th {\n",
              "        vertical-align: top;\n",
              "    }\n",
              "\n",
              "    .dataframe thead th {\n",
              "        text-align: right;\n",
              "    }\n",
              "</style>\n",
              "<table border=\"1\" class=\"dataframe\">\n",
              "  <thead>\n",
              "    <tr style=\"text-align: right;\">\n",
              "      <th></th>\n",
              "      <th>location</th>\n",
              "      <th>size</th>\n",
              "      <th>total_sqft</th>\n",
              "      <th>bath</th>\n",
              "      <th>price</th>\n",
              "      <th>bhk</th>\n",
              "      <th>price_per_sqft</th>\n",
              "    </tr>\n",
              "  </thead>\n",
              "  <tbody>\n",
              "    <tr>\n",
              "      <th>1626</th>\n",
              "      <td>Chikkabanavar</td>\n",
              "      <td>4 Bedroom</td>\n",
              "      <td>2460.0</td>\n",
              "      <td>7.0</td>\n",
              "      <td>80.0</td>\n",
              "      <td>4</td>\n",
              "      <td>3252.032520</td>\n",
              "    </tr>\n",
              "    <tr>\n",
              "      <th>5238</th>\n",
              "      <td>Nagasandra</td>\n",
              "      <td>4 Bedroom</td>\n",
              "      <td>7000.0</td>\n",
              "      <td>8.0</td>\n",
              "      <td>450.0</td>\n",
              "      <td>4</td>\n",
              "      <td>6428.571429</td>\n",
              "    </tr>\n",
              "    <tr>\n",
              "      <th>6711</th>\n",
              "      <td>Thanisandra</td>\n",
              "      <td>3 BHK</td>\n",
              "      <td>1806.0</td>\n",
              "      <td>6.0</td>\n",
              "      <td>116.0</td>\n",
              "      <td>3</td>\n",
              "      <td>6423.034330</td>\n",
              "    </tr>\n",
              "    <tr>\n",
              "      <th>8408</th>\n",
              "      <td>other</td>\n",
              "      <td>6 BHK</td>\n",
              "      <td>11338.0</td>\n",
              "      <td>9.0</td>\n",
              "      <td>1000.0</td>\n",
              "      <td>6</td>\n",
              "      <td>8819.897689</td>\n",
              "    </tr>\n",
              "  </tbody>\n",
              "</table>\n",
              "</div>"
            ],
            "text/plain": [
              "           location       size  total_sqft  bath   price  bhk  price_per_sqft\n",
              "1626  Chikkabanavar  4 Bedroom      2460.0   7.0    80.0    4     3252.032520\n",
              "5238     Nagasandra  4 Bedroom      7000.0   8.0   450.0    4     6428.571429\n",
              "6711    Thanisandra      3 BHK      1806.0   6.0   116.0    3     6423.034330\n",
              "8408          other      6 BHK     11338.0   9.0  1000.0    6     8819.897689"
            ]
          },
          "execution_count": 35,
          "metadata": {},
          "output_type": "execute_result"
        }
      ],
      "source": [
        "df8[df8.bath>df8.bhk+2]"
      ]
    },
    {
      "cell_type": "code",
      "execution_count": null,
      "id": "e23f08b1-05c5-4f56-a4f4-592be14349b2",
      "metadata": {
        "id": "e23f08b1-05c5-4f56-a4f4-592be14349b2",
        "outputId": "cf1443f1-0d53-4d80-9c8d-0354522595e6"
      },
      "outputs": [
        {
          "data": {
            "text/plain": [
              "(7239, 7)"
            ]
          },
          "execution_count": 36,
          "metadata": {},
          "output_type": "execute_result"
        }
      ],
      "source": [
        "df9 = df8[df8.bath<df8.bhk+2]\n",
        "df9.shape"
      ]
    },
    {
      "cell_type": "code",
      "execution_count": null,
      "id": "da663cd2-5016-4d69-b7f3-294f174349f7",
      "metadata": {
        "id": "da663cd2-5016-4d69-b7f3-294f174349f7",
        "outputId": "31661954-f97f-4429-97c3-717c87af0f34"
      },
      "outputs": [
        {
          "data": {
            "text/html": [
              "<div>\n",
              "<style scoped>\n",
              "    .dataframe tbody tr th:only-of-type {\n",
              "        vertical-align: middle;\n",
              "    }\n",
              "\n",
              "    .dataframe tbody tr th {\n",
              "        vertical-align: top;\n",
              "    }\n",
              "\n",
              "    .dataframe thead th {\n",
              "        text-align: right;\n",
              "    }\n",
              "</style>\n",
              "<table border=\"1\" class=\"dataframe\">\n",
              "  <thead>\n",
              "    <tr style=\"text-align: right;\">\n",
              "      <th></th>\n",
              "      <th>location</th>\n",
              "      <th>total_sqft</th>\n",
              "      <th>bath</th>\n",
              "      <th>price</th>\n",
              "      <th>bhk</th>\n",
              "    </tr>\n",
              "  </thead>\n",
              "  <tbody>\n",
              "    <tr>\n",
              "      <th>0</th>\n",
              "      <td>1st Block Jayanagar</td>\n",
              "      <td>2850.0</td>\n",
              "      <td>4.0</td>\n",
              "      <td>428.0</td>\n",
              "      <td>4</td>\n",
              "    </tr>\n",
              "    <tr>\n",
              "      <th>1</th>\n",
              "      <td>1st Block Jayanagar</td>\n",
              "      <td>1630.0</td>\n",
              "      <td>3.0</td>\n",
              "      <td>194.0</td>\n",
              "      <td>3</td>\n",
              "    </tr>\n",
              "    <tr>\n",
              "      <th>2</th>\n",
              "      <td>1st Block Jayanagar</td>\n",
              "      <td>1875.0</td>\n",
              "      <td>2.0</td>\n",
              "      <td>235.0</td>\n",
              "      <td>3</td>\n",
              "    </tr>\n",
              "  </tbody>\n",
              "</table>\n",
              "</div>"
            ],
            "text/plain": [
              "              location  total_sqft  bath  price  bhk\n",
              "0  1st Block Jayanagar      2850.0   4.0  428.0    4\n",
              "1  1st Block Jayanagar      1630.0   3.0  194.0    3\n",
              "2  1st Block Jayanagar      1875.0   2.0  235.0    3"
            ]
          },
          "execution_count": 37,
          "metadata": {},
          "output_type": "execute_result"
        }
      ],
      "source": [
        "df10 = df9.drop(['size','price_per_sqft'],axis='columns')\n",
        "df10.head(3)"
      ]
    },
    {
      "cell_type": "code",
      "execution_count": null,
      "id": "21bf4c0b-f6a8-428b-ab16-726e123c692c",
      "metadata": {
        "id": "21bf4c0b-f6a8-428b-ab16-726e123c692c",
        "outputId": "f7b31626-5aed-4efd-97aa-d2821274e5ca"
      },
      "outputs": [
        {
          "data": {
            "text/html": [
              "<div>\n",
              "<style scoped>\n",
              "    .dataframe tbody tr th:only-of-type {\n",
              "        vertical-align: middle;\n",
              "    }\n",
              "\n",
              "    .dataframe tbody tr th {\n",
              "        vertical-align: top;\n",
              "    }\n",
              "\n",
              "    .dataframe thead th {\n",
              "        text-align: right;\n",
              "    }\n",
              "</style>\n",
              "<table border=\"1\" class=\"dataframe\">\n",
              "  <thead>\n",
              "    <tr style=\"text-align: right;\">\n",
              "      <th></th>\n",
              "      <th>1st Block Jayanagar</th>\n",
              "      <th>1st Phase JP Nagar</th>\n",
              "      <th>2nd Phase Judicial Layout</th>\n",
              "      <th>2nd Stage Nagarbhavi</th>\n",
              "      <th>5th Block Hbr Layout</th>\n",
              "      <th>5th Phase JP Nagar</th>\n",
              "      <th>6th Phase JP Nagar</th>\n",
              "      <th>7th Phase JP Nagar</th>\n",
              "      <th>8th Phase JP Nagar</th>\n",
              "      <th>9th Phase JP Nagar</th>\n",
              "      <th>...</th>\n",
              "      <th>Vishveshwarya Layout</th>\n",
              "      <th>Vishwapriya Layout</th>\n",
              "      <th>Vittasandra</th>\n",
              "      <th>Whitefield</th>\n",
              "      <th>Yelachenahalli</th>\n",
              "      <th>Yelahanka</th>\n",
              "      <th>Yelahanka New Town</th>\n",
              "      <th>Yelenahalli</th>\n",
              "      <th>Yeshwanthpur</th>\n",
              "      <th>other</th>\n",
              "    </tr>\n",
              "  </thead>\n",
              "  <tbody>\n",
              "    <tr>\n",
              "      <th>0</th>\n",
              "      <td>1</td>\n",
              "      <td>0</td>\n",
              "      <td>0</td>\n",
              "      <td>0</td>\n",
              "      <td>0</td>\n",
              "      <td>0</td>\n",
              "      <td>0</td>\n",
              "      <td>0</td>\n",
              "      <td>0</td>\n",
              "      <td>0</td>\n",
              "      <td>...</td>\n",
              "      <td>0</td>\n",
              "      <td>0</td>\n",
              "      <td>0</td>\n",
              "      <td>0</td>\n",
              "      <td>0</td>\n",
              "      <td>0</td>\n",
              "      <td>0</td>\n",
              "      <td>0</td>\n",
              "      <td>0</td>\n",
              "      <td>0</td>\n",
              "    </tr>\n",
              "    <tr>\n",
              "      <th>1</th>\n",
              "      <td>1</td>\n",
              "      <td>0</td>\n",
              "      <td>0</td>\n",
              "      <td>0</td>\n",
              "      <td>0</td>\n",
              "      <td>0</td>\n",
              "      <td>0</td>\n",
              "      <td>0</td>\n",
              "      <td>0</td>\n",
              "      <td>0</td>\n",
              "      <td>...</td>\n",
              "      <td>0</td>\n",
              "      <td>0</td>\n",
              "      <td>0</td>\n",
              "      <td>0</td>\n",
              "      <td>0</td>\n",
              "      <td>0</td>\n",
              "      <td>0</td>\n",
              "      <td>0</td>\n",
              "      <td>0</td>\n",
              "      <td>0</td>\n",
              "    </tr>\n",
              "    <tr>\n",
              "      <th>2</th>\n",
              "      <td>1</td>\n",
              "      <td>0</td>\n",
              "      <td>0</td>\n",
              "      <td>0</td>\n",
              "      <td>0</td>\n",
              "      <td>0</td>\n",
              "      <td>0</td>\n",
              "      <td>0</td>\n",
              "      <td>0</td>\n",
              "      <td>0</td>\n",
              "      <td>...</td>\n",
              "      <td>0</td>\n",
              "      <td>0</td>\n",
              "      <td>0</td>\n",
              "      <td>0</td>\n",
              "      <td>0</td>\n",
              "      <td>0</td>\n",
              "      <td>0</td>\n",
              "      <td>0</td>\n",
              "      <td>0</td>\n",
              "      <td>0</td>\n",
              "    </tr>\n",
              "  </tbody>\n",
              "</table>\n",
              "<p>3 rows × 241 columns</p>\n",
              "</div>"
            ],
            "text/plain": [
              "   1st Block Jayanagar  1st Phase JP Nagar  2nd Phase Judicial Layout  \\\n",
              "0                    1                   0                          0   \n",
              "1                    1                   0                          0   \n",
              "2                    1                   0                          0   \n",
              "\n",
              "   2nd Stage Nagarbhavi  5th Block Hbr Layout  5th Phase JP Nagar  \\\n",
              "0                     0                     0                   0   \n",
              "1                     0                     0                   0   \n",
              "2                     0                     0                   0   \n",
              "\n",
              "   6th Phase JP Nagar  7th Phase JP Nagar  8th Phase JP Nagar  \\\n",
              "0                   0                   0                   0   \n",
              "1                   0                   0                   0   \n",
              "2                   0                   0                   0   \n",
              "\n",
              "   9th Phase JP Nagar  ...  Vishveshwarya Layout  Vishwapriya Layout  \\\n",
              "0                   0  ...                     0                   0   \n",
              "1                   0  ...                     0                   0   \n",
              "2                   0  ...                     0                   0   \n",
              "\n",
              "   Vittasandra  Whitefield  Yelachenahalli  Yelahanka  Yelahanka New Town  \\\n",
              "0            0           0               0          0                   0   \n",
              "1            0           0               0          0                   0   \n",
              "2            0           0               0          0                   0   \n",
              "\n",
              "   Yelenahalli  Yeshwanthpur  other  \n",
              "0            0             0      0  \n",
              "1            0             0      0  \n",
              "2            0             0      0  \n",
              "\n",
              "[3 rows x 241 columns]"
            ]
          },
          "execution_count": 38,
          "metadata": {},
          "output_type": "execute_result"
        }
      ],
      "source": [
        "dummies = pd.get_dummies(df10.location,dtype=int)\n",
        "dummies.head(3)"
      ]
    },
    {
      "cell_type": "code",
      "execution_count": null,
      "id": "a98edbce-268f-478d-b696-6b5c39185d8d",
      "metadata": {
        "id": "a98edbce-268f-478d-b696-6b5c39185d8d",
        "outputId": "8880b48a-0c57-46f9-84a3-ba6f2b409cf7"
      },
      "outputs": [
        {
          "data": {
            "text/html": [
              "<div>\n",
              "<style scoped>\n",
              "    .dataframe tbody tr th:only-of-type {\n",
              "        vertical-align: middle;\n",
              "    }\n",
              "\n",
              "    .dataframe tbody tr th {\n",
              "        vertical-align: top;\n",
              "    }\n",
              "\n",
              "    .dataframe thead th {\n",
              "        text-align: right;\n",
              "    }\n",
              "</style>\n",
              "<table border=\"1\" class=\"dataframe\">\n",
              "  <thead>\n",
              "    <tr style=\"text-align: right;\">\n",
              "      <th></th>\n",
              "      <th>total_sqft</th>\n",
              "      <th>bath</th>\n",
              "      <th>price</th>\n",
              "      <th>bhk</th>\n",
              "      <th>1st Block Jayanagar</th>\n",
              "      <th>1st Phase JP Nagar</th>\n",
              "      <th>2nd Phase Judicial Layout</th>\n",
              "      <th>2nd Stage Nagarbhavi</th>\n",
              "      <th>5th Block Hbr Layout</th>\n",
              "      <th>5th Phase JP Nagar</th>\n",
              "      <th>...</th>\n",
              "      <th>Vijayanagar</th>\n",
              "      <th>Vishveshwarya Layout</th>\n",
              "      <th>Vishwapriya Layout</th>\n",
              "      <th>Vittasandra</th>\n",
              "      <th>Whitefield</th>\n",
              "      <th>Yelachenahalli</th>\n",
              "      <th>Yelahanka</th>\n",
              "      <th>Yelahanka New Town</th>\n",
              "      <th>Yelenahalli</th>\n",
              "      <th>Yeshwanthpur</th>\n",
              "    </tr>\n",
              "  </thead>\n",
              "  <tbody>\n",
              "    <tr>\n",
              "      <th>0</th>\n",
              "      <td>2850.0</td>\n",
              "      <td>4.0</td>\n",
              "      <td>428.0</td>\n",
              "      <td>4</td>\n",
              "      <td>1</td>\n",
              "      <td>0</td>\n",
              "      <td>0</td>\n",
              "      <td>0</td>\n",
              "      <td>0</td>\n",
              "      <td>0</td>\n",
              "      <td>...</td>\n",
              "      <td>0</td>\n",
              "      <td>0</td>\n",
              "      <td>0</td>\n",
              "      <td>0</td>\n",
              "      <td>0</td>\n",
              "      <td>0</td>\n",
              "      <td>0</td>\n",
              "      <td>0</td>\n",
              "      <td>0</td>\n",
              "      <td>0</td>\n",
              "    </tr>\n",
              "    <tr>\n",
              "      <th>1</th>\n",
              "      <td>1630.0</td>\n",
              "      <td>3.0</td>\n",
              "      <td>194.0</td>\n",
              "      <td>3</td>\n",
              "      <td>1</td>\n",
              "      <td>0</td>\n",
              "      <td>0</td>\n",
              "      <td>0</td>\n",
              "      <td>0</td>\n",
              "      <td>0</td>\n",
              "      <td>...</td>\n",
              "      <td>0</td>\n",
              "      <td>0</td>\n",
              "      <td>0</td>\n",
              "      <td>0</td>\n",
              "      <td>0</td>\n",
              "      <td>0</td>\n",
              "      <td>0</td>\n",
              "      <td>0</td>\n",
              "      <td>0</td>\n",
              "      <td>0</td>\n",
              "    </tr>\n",
              "    <tr>\n",
              "      <th>2</th>\n",
              "      <td>1875.0</td>\n",
              "      <td>2.0</td>\n",
              "      <td>235.0</td>\n",
              "      <td>3</td>\n",
              "      <td>1</td>\n",
              "      <td>0</td>\n",
              "      <td>0</td>\n",
              "      <td>0</td>\n",
              "      <td>0</td>\n",
              "      <td>0</td>\n",
              "      <td>...</td>\n",
              "      <td>0</td>\n",
              "      <td>0</td>\n",
              "      <td>0</td>\n",
              "      <td>0</td>\n",
              "      <td>0</td>\n",
              "      <td>0</td>\n",
              "      <td>0</td>\n",
              "      <td>0</td>\n",
              "      <td>0</td>\n",
              "      <td>0</td>\n",
              "    </tr>\n",
              "    <tr>\n",
              "      <th>3</th>\n",
              "      <td>1200.0</td>\n",
              "      <td>2.0</td>\n",
              "      <td>130.0</td>\n",
              "      <td>3</td>\n",
              "      <td>1</td>\n",
              "      <td>0</td>\n",
              "      <td>0</td>\n",
              "      <td>0</td>\n",
              "      <td>0</td>\n",
              "      <td>0</td>\n",
              "      <td>...</td>\n",
              "      <td>0</td>\n",
              "      <td>0</td>\n",
              "      <td>0</td>\n",
              "      <td>0</td>\n",
              "      <td>0</td>\n",
              "      <td>0</td>\n",
              "      <td>0</td>\n",
              "      <td>0</td>\n",
              "      <td>0</td>\n",
              "      <td>0</td>\n",
              "    </tr>\n",
              "    <tr>\n",
              "      <th>4</th>\n",
              "      <td>1235.0</td>\n",
              "      <td>2.0</td>\n",
              "      <td>148.0</td>\n",
              "      <td>2</td>\n",
              "      <td>1</td>\n",
              "      <td>0</td>\n",
              "      <td>0</td>\n",
              "      <td>0</td>\n",
              "      <td>0</td>\n",
              "      <td>0</td>\n",
              "      <td>...</td>\n",
              "      <td>0</td>\n",
              "      <td>0</td>\n",
              "      <td>0</td>\n",
              "      <td>0</td>\n",
              "      <td>0</td>\n",
              "      <td>0</td>\n",
              "      <td>0</td>\n",
              "      <td>0</td>\n",
              "      <td>0</td>\n",
              "      <td>0</td>\n",
              "    </tr>\n",
              "  </tbody>\n",
              "</table>\n",
              "<p>5 rows × 244 columns</p>\n",
              "</div>"
            ],
            "text/plain": [
              "   total_sqft  bath  price  bhk  1st Block Jayanagar  1st Phase JP Nagar  \\\n",
              "0      2850.0   4.0  428.0    4                    1                   0   \n",
              "1      1630.0   3.0  194.0    3                    1                   0   \n",
              "2      1875.0   2.0  235.0    3                    1                   0   \n",
              "3      1200.0   2.0  130.0    3                    1                   0   \n",
              "4      1235.0   2.0  148.0    2                    1                   0   \n",
              "\n",
              "   2nd Phase Judicial Layout  2nd Stage Nagarbhavi  5th Block Hbr Layout  \\\n",
              "0                          0                     0                     0   \n",
              "1                          0                     0                     0   \n",
              "2                          0                     0                     0   \n",
              "3                          0                     0                     0   \n",
              "4                          0                     0                     0   \n",
              "\n",
              "   5th Phase JP Nagar  ...  Vijayanagar  Vishveshwarya Layout  \\\n",
              "0                   0  ...            0                     0   \n",
              "1                   0  ...            0                     0   \n",
              "2                   0  ...            0                     0   \n",
              "3                   0  ...            0                     0   \n",
              "4                   0  ...            0                     0   \n",
              "\n",
              "   Vishwapriya Layout  Vittasandra  Whitefield  Yelachenahalli  Yelahanka  \\\n",
              "0                   0            0           0               0          0   \n",
              "1                   0            0           0               0          0   \n",
              "2                   0            0           0               0          0   \n",
              "3                   0            0           0               0          0   \n",
              "4                   0            0           0               0          0   \n",
              "\n",
              "   Yelahanka New Town  Yelenahalli  Yeshwanthpur  \n",
              "0                   0            0             0  \n",
              "1                   0            0             0  \n",
              "2                   0            0             0  \n",
              "3                   0            0             0  \n",
              "4                   0            0             0  \n",
              "\n",
              "[5 rows x 244 columns]"
            ]
          },
          "execution_count": 39,
          "metadata": {},
          "output_type": "execute_result"
        }
      ],
      "source": [
        "df11 = pd.concat([df10,dummies.drop('other',axis='columns')],axis='columns')\n",
        "df12 = df11.drop('location',axis='columns')\n",
        "df12.head()"
      ]
    },
    {
      "cell_type": "code",
      "execution_count": null,
      "id": "92ca4e27-60dc-493b-b54b-8bae022a0e65",
      "metadata": {
        "id": "92ca4e27-60dc-493b-b54b-8bae022a0e65",
        "outputId": "4dc9df46-2399-4a9b-da4d-340a2c4fe06d"
      },
      "outputs": [
        {
          "data": {
            "text/html": [
              "<div>\n",
              "<style scoped>\n",
              "    .dataframe tbody tr th:only-of-type {\n",
              "        vertical-align: middle;\n",
              "    }\n",
              "\n",
              "    .dataframe tbody tr th {\n",
              "        vertical-align: top;\n",
              "    }\n",
              "\n",
              "    .dataframe thead th {\n",
              "        text-align: right;\n",
              "    }\n",
              "</style>\n",
              "<table border=\"1\" class=\"dataframe\">\n",
              "  <thead>\n",
              "    <tr style=\"text-align: right;\">\n",
              "      <th></th>\n",
              "      <th>total_sqft</th>\n",
              "      <th>bath</th>\n",
              "      <th>bhk</th>\n",
              "      <th>1st Block Jayanagar</th>\n",
              "      <th>1st Phase JP Nagar</th>\n",
              "      <th>2nd Phase Judicial Layout</th>\n",
              "      <th>2nd Stage Nagarbhavi</th>\n",
              "      <th>5th Block Hbr Layout</th>\n",
              "      <th>5th Phase JP Nagar</th>\n",
              "      <th>6th Phase JP Nagar</th>\n",
              "      <th>...</th>\n",
              "      <th>Vijayanagar</th>\n",
              "      <th>Vishveshwarya Layout</th>\n",
              "      <th>Vishwapriya Layout</th>\n",
              "      <th>Vittasandra</th>\n",
              "      <th>Whitefield</th>\n",
              "      <th>Yelachenahalli</th>\n",
              "      <th>Yelahanka</th>\n",
              "      <th>Yelahanka New Town</th>\n",
              "      <th>Yelenahalli</th>\n",
              "      <th>Yeshwanthpur</th>\n",
              "    </tr>\n",
              "  </thead>\n",
              "  <tbody>\n",
              "    <tr>\n",
              "      <th>0</th>\n",
              "      <td>2850.0</td>\n",
              "      <td>4.0</td>\n",
              "      <td>4</td>\n",
              "      <td>1</td>\n",
              "      <td>0</td>\n",
              "      <td>0</td>\n",
              "      <td>0</td>\n",
              "      <td>0</td>\n",
              "      <td>0</td>\n",
              "      <td>0</td>\n",
              "      <td>...</td>\n",
              "      <td>0</td>\n",
              "      <td>0</td>\n",
              "      <td>0</td>\n",
              "      <td>0</td>\n",
              "      <td>0</td>\n",
              "      <td>0</td>\n",
              "      <td>0</td>\n",
              "      <td>0</td>\n",
              "      <td>0</td>\n",
              "      <td>0</td>\n",
              "    </tr>\n",
              "    <tr>\n",
              "      <th>1</th>\n",
              "      <td>1630.0</td>\n",
              "      <td>3.0</td>\n",
              "      <td>3</td>\n",
              "      <td>1</td>\n",
              "      <td>0</td>\n",
              "      <td>0</td>\n",
              "      <td>0</td>\n",
              "      <td>0</td>\n",
              "      <td>0</td>\n",
              "      <td>0</td>\n",
              "      <td>...</td>\n",
              "      <td>0</td>\n",
              "      <td>0</td>\n",
              "      <td>0</td>\n",
              "      <td>0</td>\n",
              "      <td>0</td>\n",
              "      <td>0</td>\n",
              "      <td>0</td>\n",
              "      <td>0</td>\n",
              "      <td>0</td>\n",
              "      <td>0</td>\n",
              "    </tr>\n",
              "    <tr>\n",
              "      <th>2</th>\n",
              "      <td>1875.0</td>\n",
              "      <td>2.0</td>\n",
              "      <td>3</td>\n",
              "      <td>1</td>\n",
              "      <td>0</td>\n",
              "      <td>0</td>\n",
              "      <td>0</td>\n",
              "      <td>0</td>\n",
              "      <td>0</td>\n",
              "      <td>0</td>\n",
              "      <td>...</td>\n",
              "      <td>0</td>\n",
              "      <td>0</td>\n",
              "      <td>0</td>\n",
              "      <td>0</td>\n",
              "      <td>0</td>\n",
              "      <td>0</td>\n",
              "      <td>0</td>\n",
              "      <td>0</td>\n",
              "      <td>0</td>\n",
              "      <td>0</td>\n",
              "    </tr>\n",
              "    <tr>\n",
              "      <th>3</th>\n",
              "      <td>1200.0</td>\n",
              "      <td>2.0</td>\n",
              "      <td>3</td>\n",
              "      <td>1</td>\n",
              "      <td>0</td>\n",
              "      <td>0</td>\n",
              "      <td>0</td>\n",
              "      <td>0</td>\n",
              "      <td>0</td>\n",
              "      <td>0</td>\n",
              "      <td>...</td>\n",
              "      <td>0</td>\n",
              "      <td>0</td>\n",
              "      <td>0</td>\n",
              "      <td>0</td>\n",
              "      <td>0</td>\n",
              "      <td>0</td>\n",
              "      <td>0</td>\n",
              "      <td>0</td>\n",
              "      <td>0</td>\n",
              "      <td>0</td>\n",
              "    </tr>\n",
              "    <tr>\n",
              "      <th>4</th>\n",
              "      <td>1235.0</td>\n",
              "      <td>2.0</td>\n",
              "      <td>2</td>\n",
              "      <td>1</td>\n",
              "      <td>0</td>\n",
              "      <td>0</td>\n",
              "      <td>0</td>\n",
              "      <td>0</td>\n",
              "      <td>0</td>\n",
              "      <td>0</td>\n",
              "      <td>...</td>\n",
              "      <td>0</td>\n",
              "      <td>0</td>\n",
              "      <td>0</td>\n",
              "      <td>0</td>\n",
              "      <td>0</td>\n",
              "      <td>0</td>\n",
              "      <td>0</td>\n",
              "      <td>0</td>\n",
              "      <td>0</td>\n",
              "      <td>0</td>\n",
              "    </tr>\n",
              "  </tbody>\n",
              "</table>\n",
              "<p>5 rows × 243 columns</p>\n",
              "</div>"
            ],
            "text/plain": [
              "   total_sqft  bath  bhk  1st Block Jayanagar  1st Phase JP Nagar  \\\n",
              "0      2850.0   4.0    4                    1                   0   \n",
              "1      1630.0   3.0    3                    1                   0   \n",
              "2      1875.0   2.0    3                    1                   0   \n",
              "3      1200.0   2.0    3                    1                   0   \n",
              "4      1235.0   2.0    2                    1                   0   \n",
              "\n",
              "   2nd Phase Judicial Layout  2nd Stage Nagarbhavi  5th Block Hbr Layout  \\\n",
              "0                          0                     0                     0   \n",
              "1                          0                     0                     0   \n",
              "2                          0                     0                     0   \n",
              "3                          0                     0                     0   \n",
              "4                          0                     0                     0   \n",
              "\n",
              "   5th Phase JP Nagar  6th Phase JP Nagar  ...  Vijayanagar  \\\n",
              "0                   0                   0  ...            0   \n",
              "1                   0                   0  ...            0   \n",
              "2                   0                   0  ...            0   \n",
              "3                   0                   0  ...            0   \n",
              "4                   0                   0  ...            0   \n",
              "\n",
              "   Vishveshwarya Layout  Vishwapriya Layout  Vittasandra  Whitefield  \\\n",
              "0                     0                   0            0           0   \n",
              "1                     0                   0            0           0   \n",
              "2                     0                   0            0           0   \n",
              "3                     0                   0            0           0   \n",
              "4                     0                   0            0           0   \n",
              "\n",
              "   Yelachenahalli  Yelahanka  Yelahanka New Town  Yelenahalli  Yeshwanthpur  \n",
              "0               0          0                   0            0             0  \n",
              "1               0          0                   0            0             0  \n",
              "2               0          0                   0            0             0  \n",
              "3               0          0                   0            0             0  \n",
              "4               0          0                   0            0             0  \n",
              "\n",
              "[5 rows x 243 columns]"
            ]
          },
          "execution_count": 40,
          "metadata": {},
          "output_type": "execute_result"
        }
      ],
      "source": [
        "X=df12.drop(['price'],axis='columns')\n",
        "X.head()"
      ]
    },
    {
      "cell_type": "code",
      "execution_count": null,
      "id": "680eb560-258d-4b22-89d3-c7b5aaa6a7ef",
      "metadata": {
        "id": "680eb560-258d-4b22-89d3-c7b5aaa6a7ef",
        "outputId": "c76f3fe8-3055-4b11-dab0-2dfa0559473d"
      },
      "outputs": [
        {
          "data": {
            "text/plain": [
              "0    428.0\n",
              "1    194.0\n",
              "2    235.0\n",
              "Name: price, dtype: float64"
            ]
          },
          "execution_count": 41,
          "metadata": {},
          "output_type": "execute_result"
        }
      ],
      "source": [
        "y = df12.price\n",
        "y.head(3)"
      ]
    },
    {
      "cell_type": "code",
      "execution_count": null,
      "id": "9f686214-4fa8-4c84-b4f8-0c1f715be2e5",
      "metadata": {
        "id": "9f686214-4fa8-4c84-b4f8-0c1f715be2e5",
        "outputId": "cef44ed0-db57-400c-bcfc-b3d1d66290d8"
      },
      "outputs": [
        {
          "data": {
            "text/plain": [
              "0.8629132245229444"
            ]
          },
          "execution_count": 42,
          "metadata": {},
          "output_type": "execute_result"
        }
      ],
      "source": [
        "from sklearn.model_selection import train_test_split\n",
        "X_train, X_test, y_train, y_test = train_test_split(X,y,test_size=0.2,random_state=10)\n",
        "from sklearn.linear_model import LinearRegression\n",
        "lr_clf = LinearRegression()\n",
        "lr_clf.fit(X_train,y_train)\n",
        "lr_clf.score(X_test,y_test)"
      ]
    },
    {
      "cell_type": "code",
      "execution_count": null,
      "id": "7516a114-6ab2-4eba-93d9-12ba98593892",
      "metadata": {
        "id": "7516a114-6ab2-4eba-93d9-12ba98593892",
        "outputId": "041cb4e9-9b91-4d5f-829f-f2f8c37d466d"
      },
      "outputs": [
        {
          "data": {
            "text/plain": [
              "array([0.82702546, 0.86027005, 0.85322178, 0.8436466 , 0.85481502])"
            ]
          },
          "execution_count": 43,
          "metadata": {},
          "output_type": "execute_result"
        }
      ],
      "source": [
        "from sklearn.model_selection import ShuffleSplit\n",
        "from sklearn.model_selection import cross_val_score\n",
        "\n",
        "cv = ShuffleSplit(n_splits=5, test_size=0.2, random_state=0)\n",
        "\n",
        "cross_val_score(LinearRegression(), X, y, cv=cv)"
      ]
    },
    {
      "cell_type": "code",
      "execution_count": null,
      "id": "91aed37f-2eac-4dea-b3c0-67b4ced05834",
      "metadata": {
        "id": "91aed37f-2eac-4dea-b3c0-67b4ced05834"
      },
      "outputs": [],
      "source": [
        "def predict_price(location,sqft,bath,bhk):\n",
        "    loc_index = np.where(X.columns==location)[0][0]\n",
        "\n",
        "    x = np.zeros(len(X.columns))\n",
        "    x[0] = sqft\n",
        "    x[1] = bath\n",
        "    x[2] = bhk\n",
        "    if loc_index >= 0:\n",
        "        x[loc_index] = 1\n",
        "\n",
        "    return lr_clf.predict([x])[0]"
      ]
    },
    {
      "cell_type": "code",
      "execution_count": null,
      "id": "13a5349f-9a7f-4e7f-8691-93b553ccc8c2",
      "metadata": {
        "id": "13a5349f-9a7f-4e7f-8691-93b553ccc8c2",
        "outputId": "bbf40572-9809-4191-c3e2-ab10a0f89b9e"
      },
      "outputs": [
        {
          "name": "stderr",
          "output_type": "stream",
          "text": [
            "D:\\Apps\\anaconda\\Lib\\site-packages\\sklearn\\base.py:493: UserWarning: X does not have valid feature names, but LinearRegression was fitted with feature names\n",
            "  warnings.warn(\n"
          ]
        },
        {
          "data": {
            "text/plain": [
              "83.8657025831206"
            ]
          },
          "execution_count": 45,
          "metadata": {},
          "output_type": "execute_result"
        }
      ],
      "source": [
        "predict_price('1st Phase JP Nagar',1000, 2, 2)"
      ]
    },
    {
      "cell_type": "code",
      "execution_count": null,
      "id": "a5d0e17b-5b14-46f0-bae3-c1d52e606c70",
      "metadata": {
        "id": "a5d0e17b-5b14-46f0-bae3-c1d52e606c70"
      },
      "outputs": [],
      "source": [
        "import pickle\n",
        "with open('banglore_home_prices_model.pickle','wb') as f:\n",
        "    pickle.dump(lr_clf,f)"
      ]
    },
    {
      "cell_type": "code",
      "execution_count": null,
      "id": "e6feca4c-4949-45a6-9433-8e5a9dbf03b9",
      "metadata": {
        "id": "e6feca4c-4949-45a6-9433-8e5a9dbf03b9"
      },
      "outputs": [],
      "source": [
        "import json\n",
        "columns = {\n",
        "    'data_columns' : [col.lower() for col in X.columns]\n",
        "}\n",
        "with open(\"columns.json\",\"w\") as f:\n",
        "    f.write(json.dumps(columns))"
      ]
    },
    {
      "cell_type": "code",
      "execution_count": null,
      "id": "ddd3bde8-cdcc-4fe9-b47c-f81be70a4305",
      "metadata": {
        "id": "ddd3bde8-cdcc-4fe9-b47c-f81be70a4305"
      },
      "outputs": [],
      "source": []
    },
    {
      "cell_type": "code",
      "execution_count": null,
      "id": "59951814-6be4-4383-8ca4-fd23cb17c555",
      "metadata": {
        "id": "59951814-6be4-4383-8ca4-fd23cb17c555"
      },
      "outputs": [],
      "source": []
    },
    {
      "cell_type": "code",
      "execution_count": null,
      "id": "943d61df-93d9-49be-b032-577237f1a48e",
      "metadata": {
        "id": "943d61df-93d9-49be-b032-577237f1a48e"
      },
      "outputs": [],
      "source": []
    },
    {
      "cell_type": "code",
      "execution_count": null,
      "id": "b04bdfe5-26e9-4ef7-91e9-7d526b5d2225",
      "metadata": {
        "id": "b04bdfe5-26e9-4ef7-91e9-7d526b5d2225"
      },
      "outputs": [],
      "source": []
    },
    {
      "cell_type": "code",
      "execution_count": null,
      "id": "17f069cc-a9c1-4ed0-af89-7c317af9f177",
      "metadata": {
        "id": "17f069cc-a9c1-4ed0-af89-7c317af9f177"
      },
      "outputs": [],
      "source": []
    },
    {
      "cell_type": "code",
      "execution_count": null,
      "id": "883e6c0e-b747-49f2-b601-1373dac752cd",
      "metadata": {
        "id": "883e6c0e-b747-49f2-b601-1373dac752cd"
      },
      "outputs": [],
      "source": []
    },
    {
      "cell_type": "code",
      "execution_count": null,
      "id": "f3d0fb63-09e7-474c-872e-7e6995086b59",
      "metadata": {
        "id": "f3d0fb63-09e7-474c-872e-7e6995086b59"
      },
      "outputs": [],
      "source": []
    }
  ],
  "metadata": {
    "kernelspec": {
      "display_name": "Python 3 (ipykernel)",
      "language": "python",
      "name": "python3"
    },
    "language_info": {
      "codemirror_mode": {
        "name": "ipython",
        "version": 3
      },
      "file_extension": ".py",
      "mimetype": "text/x-python",
      "name": "python",
      "nbconvert_exporter": "python",
      "pygments_lexer": "ipython3",
      "version": "3.12.7"
    },
    "colab": {
      "provenance": []
    }
  },
  "nbformat": 4,
  "nbformat_minor": 5
}